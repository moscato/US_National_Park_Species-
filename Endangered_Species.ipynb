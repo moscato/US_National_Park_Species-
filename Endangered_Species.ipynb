{
 "cells": [
  {
   "cell_type": "markdown",
   "id": "95faf4fc",
   "metadata": {},
   "source": [
    "# Endangered Species in US National Parks\n",
    "\n",
    "This project explores the conservation of species in US National Parks.\n",
    "We will look at data on the top 10 most visited US National Parks in 2022.\n",
    "The dataset is provided by the National Park Service via their [NPSecies Database](https://irma.nps.gov/NPSpecies/).\n",
    "\n",
    "This Notebook aims to investigate the following questions:\n",
    "- How does conservation status differ across national parks?\n",
    "- Are mammal species more likely to be protected than non-mammal species?\n",
    "- Are native species more likely to be protected than non-native species?\n",
    "- Are there any abundant species that are also classified as threatened or endangered?"
   ]
  },
  {
   "cell_type": "markdown",
   "id": "0ca85e9f",
   "metadata": {},
   "source": [
    "### Load and Inspect Data"
   ]
  },
  {
   "cell_type": "code",
   "execution_count": 1,
   "id": "42f639d4",
   "metadata": {},
   "outputs": [],
   "source": [
    "import pandas as pd\n",
    "import numpy as np\n",
    "from matplotlib import pyplot as plt\n",
    "%matplotlib inline"
   ]
  },
  {
   "cell_type": "code",
   "execution_count": 2,
   "id": "ffee6fd5",
   "metadata": {},
   "outputs": [],
   "source": [
    "species = pd.read_csv('datasets/NPS_species_info.csv')\n",
    "# print(species.info())\n",
    "# species.head()"
   ]
  },
  {
   "cell_type": "markdown",
   "id": "ed515bea",
   "metadata": {},
   "source": [
    "### Data Cleaning and Preparation"
   ]
  },
  {
   "cell_type": "code",
   "execution_count": 3,
   "id": "c256f986",
   "metadata": {},
   "outputs": [],
   "source": [
    "def clean_df_text(df):\n",
    "    df.columns = df.columns.str.strip()\n",
    "    for column in df.columns:\n",
    "        if df[column].dtype == 'object':\n",
    "            df[column] = df[column].str.title()\n",
    "            df[column] = df[column].str.strip()\n",
    "    return df"
   ]
  },
  {
   "cell_type": "code",
   "execution_count": 4,
   "id": "55b4c2db",
   "metadata": {},
   "outputs": [],
   "source": [
    "species = clean_df_text(species)"
   ]
  },
  {
   "cell_type": "code",
   "execution_count": 5,
   "id": "8a41bcea",
   "metadata": {},
   "outputs": [
    {
     "data": {
      "text/plain": [
       "Insect                   15482\n",
       "Vascular Plant           15415\n",
       "Fungi                     5936\n",
       "Spider/Scorpion           4846\n",
       "Bird                      3161\n",
       "Non-Vascular Plant        1868\n",
       "Other Non-Vertebrates     1127\n",
       "Chromista                 1007\n",
       "Mammal                     794\n",
       "Slug/Snail                 408\n",
       "Fish                       370\n",
       "Bacteria                   342\n",
       "Protozoa                   282\n",
       "Reptile                    248\n",
       "Crab/Lobster/Shrimp        243\n",
       "Amphibian                  177\n",
       "Name: Category, dtype: int64"
      ]
     },
     "execution_count": 5,
     "metadata": {},
     "output_type": "execute_result"
    }
   ],
   "source": [
    "species['Category'].value_counts()"
   ]
  },
  {
   "cell_type": "markdown",
   "id": "2365badb",
   "metadata": {},
   "source": [
    "For this analysis, we will only be looking at **Amphibian**, **Bird**, **Fish**, **Mammal**, and **Reptile** categories."
   ]
  },
  {
   "cell_type": "code",
   "execution_count": 6,
   "id": "f0bc9a0b",
   "metadata": {},
   "outputs": [],
   "source": [
    "amphibian = species['Category'] == 'Amphibian'\n",
    "bird = species['Category'] == 'Bird'\n",
    "fish = species['Category'] == 'Fish'\n",
    "mammals = species['Category'] == 'Mammal'\n",
    "reptile = species['Category'] == 'Reptile'\n",
    "\n",
    "species = species[amphibian | bird | fish | mammals | reptile]"
   ]
  },
  {
   "cell_type": "code",
   "execution_count": 7,
   "id": "7955649f",
   "metadata": {},
   "outputs": [
    {
     "data": {
      "text/plain": [
       "Bird         3161\n",
       "Mammal        794\n",
       "Fish          370\n",
       "Reptile       248\n",
       "Amphibian     177\n",
       "Name: Category, dtype: int64"
      ]
     },
     "execution_count": 7,
     "metadata": {},
     "output_type": "execute_result"
    }
   ],
   "source": [
    "species['Category'].value_counts()"
   ]
  },
  {
   "cell_type": "markdown",
   "id": "d1ca6244",
   "metadata": {},
   "source": [
    "Now lets look at our Conversation status, and make a new column called **Protected**."
   ]
  },
  {
   "cell_type": "code",
   "execution_count": 8,
   "id": "65309267",
   "metadata": {},
   "outputs": [
    {
     "data": {
      "text/plain": [
       "Least Concern         3367\n",
       "Species Of Concern    1304\n",
       "Endangered              31\n",
       "Threatened              29\n",
       "In Recovery             19\n",
       "Name: Conservation Status, dtype: int64"
      ]
     },
     "execution_count": 8,
     "metadata": {},
     "output_type": "execute_result"
    }
   ],
   "source": [
    "species['Conservation Status'].value_counts()"
   ]
  },
  {
   "cell_type": "code",
   "execution_count": 9,
   "id": "50904af2",
   "metadata": {},
   "outputs": [],
   "source": [
    "species['Protected'] = species['Conservation Status'] != 'Least Concern'"
   ]
  },
  {
   "cell_type": "markdown",
   "id": "e77b5ac7",
   "metadata": {},
   "source": [
    "Now we can drop uneccessary columns and start exploring the data relevant to our questions"
   ]
  },
  {
   "cell_type": "code",
   "execution_count": 10,
   "id": "998ecab6",
   "metadata": {},
   "outputs": [
    {
     "data": {
      "text/html": [
       "<div>\n",
       "<style scoped>\n",
       "    .dataframe tbody tr th:only-of-type {\n",
       "        vertical-align: middle;\n",
       "    }\n",
       "\n",
       "    .dataframe tbody tr th {\n",
       "        vertical-align: top;\n",
       "    }\n",
       "\n",
       "    .dataframe thead th {\n",
       "        text-align: right;\n",
       "    }\n",
       "</style>\n",
       "<table border=\"1\" class=\"dataframe\">\n",
       "  <thead>\n",
       "    <tr style=\"text-align: right;\">\n",
       "      <th></th>\n",
       "      <th>Scientific Name</th>\n",
       "      <th>Common Names</th>\n",
       "      <th>Category</th>\n",
       "      <th>Park Name</th>\n",
       "      <th>Nativeness</th>\n",
       "      <th>Abundance</th>\n",
       "      <th>Conservation Status</th>\n",
       "      <th>Protected</th>\n",
       "    </tr>\n",
       "  </thead>\n",
       "  <tbody>\n",
       "    <tr>\n",
       "      <th>0</th>\n",
       "      <td>Alces Alces</td>\n",
       "      <td>Moose</td>\n",
       "      <td>Mammal</td>\n",
       "      <td>Acadia National Park</td>\n",
       "      <td>Native</td>\n",
       "      <td>Rare</td>\n",
       "      <td>Least Concern</td>\n",
       "      <td>False</td>\n",
       "    </tr>\n",
       "    <tr>\n",
       "      <th>1</th>\n",
       "      <td>Odocoileus Virginianus</td>\n",
       "      <td>Northern White-Tailed Deer, Virginia Deer, Whi...</td>\n",
       "      <td>Mammal</td>\n",
       "      <td>Acadia National Park</td>\n",
       "      <td>Native</td>\n",
       "      <td>Abundant</td>\n",
       "      <td>Least Concern</td>\n",
       "      <td>False</td>\n",
       "    </tr>\n",
       "    <tr>\n",
       "      <th>2</th>\n",
       "      <td>Canis Latrans</td>\n",
       "      <td>Coyote, Eastern Coyote</td>\n",
       "      <td>Mammal</td>\n",
       "      <td>Acadia National Park</td>\n",
       "      <td>Non-Native</td>\n",
       "      <td>Common</td>\n",
       "      <td>Species Of Concern</td>\n",
       "      <td>True</td>\n",
       "    </tr>\n",
       "    <tr>\n",
       "      <th>3</th>\n",
       "      <td>Canis Lupus</td>\n",
       "      <td>Eastern Timber Wolf, Gray Wolf, Timber Wolf</td>\n",
       "      <td>Mammal</td>\n",
       "      <td>Acadia National Park</td>\n",
       "      <td>Native</td>\n",
       "      <td>NaN</td>\n",
       "      <td>Endangered</td>\n",
       "      <td>True</td>\n",
       "    </tr>\n",
       "    <tr>\n",
       "      <th>4</th>\n",
       "      <td>Vulpes Vulpes</td>\n",
       "      <td>Black Fox, Cross Fox, Eastern Red Fox, Fox, Re...</td>\n",
       "      <td>Mammal</td>\n",
       "      <td>Acadia National Park</td>\n",
       "      <td>Unknown</td>\n",
       "      <td>Common</td>\n",
       "      <td>Least Concern</td>\n",
       "      <td>False</td>\n",
       "    </tr>\n",
       "  </tbody>\n",
       "</table>\n",
       "</div>"
      ],
      "text/plain": [
       "          Scientific Name                                       Common Names  \\\n",
       "0             Alces Alces                                              Moose   \n",
       "1  Odocoileus Virginianus  Northern White-Tailed Deer, Virginia Deer, Whi...   \n",
       "2           Canis Latrans                             Coyote, Eastern Coyote   \n",
       "3             Canis Lupus        Eastern Timber Wolf, Gray Wolf, Timber Wolf   \n",
       "4           Vulpes Vulpes  Black Fox, Cross Fox, Eastern Red Fox, Fox, Re...   \n",
       "\n",
       "  Category             Park Name  Nativeness Abundance Conservation Status  \\\n",
       "0   Mammal  Acadia National Park      Native      Rare       Least Concern   \n",
       "1   Mammal  Acadia National Park      Native  Abundant       Least Concern   \n",
       "2   Mammal  Acadia National Park  Non-Native    Common  Species Of Concern   \n",
       "3   Mammal  Acadia National Park      Native       NaN          Endangered   \n",
       "4   Mammal  Acadia National Park     Unknown    Common       Least Concern   \n",
       "\n",
       "   Protected  \n",
       "0      False  \n",
       "1      False  \n",
       "2       True  \n",
       "3       True  \n",
       "4      False  "
      ]
     },
     "execution_count": 10,
     "metadata": {},
     "output_type": "execute_result"
    }
   ],
   "source": [
    "drop_cols = ['Order', 'Family', 'Observations']\n",
    "species = species.drop(drop_cols, axis=1)\n",
    "species.head()"
   ]
  },
  {
   "cell_type": "markdown",
   "id": "d12d81b6",
   "metadata": {},
   "source": [
    "### Exploration"
   ]
  },
  {
   "cell_type": "code",
   "execution_count": 11,
   "id": "71484f17",
   "metadata": {},
   "outputs": [],
   "source": [
    "scientific = species['Scientific Name'].nunique()\n",
    "common = species['Common Names'].nunique()"
   ]
  },
  {
   "cell_type": "code",
   "execution_count": 12,
   "id": "a8b9983b",
   "metadata": {},
   "outputs": [
    {
     "name": "stdout",
     "output_type": "stream",
     "text": [
      "Scientific Names: 1557\n",
      "Common Names: 1871\n"
     ]
    }
   ],
   "source": [
    "print('Scientific Names: ' + str(scientific))\n",
    "print('Common Names: ' + str(common))"
   ]
  },
  {
   "cell_type": "markdown",
   "id": "7fc2f818",
   "metadata": {},
   "source": [
    "We first notice that there are multiple entries for the same **Scientific Name** for multiple parks."
   ]
  },
  {
   "cell_type": "code",
   "execution_count": 13,
   "id": "e8521814",
   "metadata": {},
   "outputs": [
    {
     "data": {
      "text/html": [
       "<div>\n",
       "<style scoped>\n",
       "    .dataframe tbody tr th:only-of-type {\n",
       "        vertical-align: middle;\n",
       "    }\n",
       "\n",
       "    .dataframe tbody tr th {\n",
       "        vertical-align: top;\n",
       "    }\n",
       "\n",
       "    .dataframe thead th {\n",
       "        text-align: right;\n",
       "    }\n",
       "</style>\n",
       "<table border=\"1\" class=\"dataframe\">\n",
       "  <thead>\n",
       "    <tr style=\"text-align: right;\">\n",
       "      <th></th>\n",
       "      <th>Scientific Name</th>\n",
       "      <th>Common Names</th>\n",
       "      <th>Category</th>\n",
       "      <th>Park Name</th>\n",
       "      <th>Nativeness</th>\n",
       "      <th>Abundance</th>\n",
       "      <th>Conservation Status</th>\n",
       "      <th>Protected</th>\n",
       "    </tr>\n",
       "  </thead>\n",
       "  <tbody>\n",
       "    <tr>\n",
       "      <th>3</th>\n",
       "      <td>Canis Lupus</td>\n",
       "      <td>Eastern Timber Wolf, Gray Wolf, Timber Wolf</td>\n",
       "      <td>Mammal</td>\n",
       "      <td>Acadia National Park</td>\n",
       "      <td>Native</td>\n",
       "      <td>NaN</td>\n",
       "      <td>Endangered</td>\n",
       "      <td>True</td>\n",
       "    </tr>\n",
       "    <tr>\n",
       "      <th>1719</th>\n",
       "      <td>Canis Lupus</td>\n",
       "      <td>Gray Wolf</td>\n",
       "      <td>Mammal</td>\n",
       "      <td>Glacier National Park</td>\n",
       "      <td>Native</td>\n",
       "      <td>Rare</td>\n",
       "      <td>Least Concern</td>\n",
       "      <td>False</td>\n",
       "    </tr>\n",
       "    <tr>\n",
       "      <th>6984</th>\n",
       "      <td>Canis Lupus</td>\n",
       "      <td>Gray Wolf</td>\n",
       "      <td>Mammal</td>\n",
       "      <td>Great Smoky Mountains National Park</td>\n",
       "      <td>Native</td>\n",
       "      <td>NaN</td>\n",
       "      <td>Endangered</td>\n",
       "      <td>True</td>\n",
       "    </tr>\n",
       "    <tr>\n",
       "      <th>35726</th>\n",
       "      <td>Canis Lupus</td>\n",
       "      <td>Gray Wolf, Wolf</td>\n",
       "      <td>Mammal</td>\n",
       "      <td>Grand Teton National Park</td>\n",
       "      <td>Native</td>\n",
       "      <td>Uncommon</td>\n",
       "      <td>Endangered</td>\n",
       "      <td>True</td>\n",
       "    </tr>\n",
       "    <tr>\n",
       "      <th>37967</th>\n",
       "      <td>Canis Lupus</td>\n",
       "      <td>Gray Wolf, Wolf</td>\n",
       "      <td>Mammal</td>\n",
       "      <td>Indiana Dunes National Park</td>\n",
       "      <td>Native</td>\n",
       "      <td>NaN</td>\n",
       "      <td>Endangered</td>\n",
       "      <td>True</td>\n",
       "    </tr>\n",
       "    <tr>\n",
       "      <th>40455</th>\n",
       "      <td>Canis Lupus</td>\n",
       "      <td>Gray Wolf</td>\n",
       "      <td>Mammal</td>\n",
       "      <td>Rocky Mountain National Park</td>\n",
       "      <td>Native</td>\n",
       "      <td>NaN</td>\n",
       "      <td>Endangered</td>\n",
       "      <td>True</td>\n",
       "    </tr>\n",
       "    <tr>\n",
       "      <th>43656</th>\n",
       "      <td>Canis Lupus</td>\n",
       "      <td>Gray Wolf, Wolf</td>\n",
       "      <td>Mammal</td>\n",
       "      <td>Yellowstone National Park</td>\n",
       "      <td>Native</td>\n",
       "      <td>Common</td>\n",
       "      <td>Least Concern</td>\n",
       "      <td>False</td>\n",
       "    </tr>\n",
       "    <tr>\n",
       "      <th>47826</th>\n",
       "      <td>Canis Lupus</td>\n",
       "      <td>Gray Wolf, Wolf</td>\n",
       "      <td>Mammal</td>\n",
       "      <td>Yosemite National Park</td>\n",
       "      <td>Unknown</td>\n",
       "      <td>NaN</td>\n",
       "      <td>Endangered</td>\n",
       "      <td>True</td>\n",
       "    </tr>\n",
       "  </tbody>\n",
       "</table>\n",
       "</div>"
      ],
      "text/plain": [
       "      Scientific Name                                 Common Names Category  \\\n",
       "3         Canis Lupus  Eastern Timber Wolf, Gray Wolf, Timber Wolf   Mammal   \n",
       "1719      Canis Lupus                                    Gray Wolf   Mammal   \n",
       "6984      Canis Lupus                                    Gray Wolf   Mammal   \n",
       "35726     Canis Lupus                              Gray Wolf, Wolf   Mammal   \n",
       "37967     Canis Lupus                              Gray Wolf, Wolf   Mammal   \n",
       "40455     Canis Lupus                                    Gray Wolf   Mammal   \n",
       "43656     Canis Lupus                              Gray Wolf, Wolf   Mammal   \n",
       "47826     Canis Lupus                              Gray Wolf, Wolf   Mammal   \n",
       "\n",
       "                                 Park Name Nativeness Abundance  \\\n",
       "3                     Acadia National Park     Native       NaN   \n",
       "1719                 Glacier National Park     Native      Rare   \n",
       "6984   Great Smoky Mountains National Park     Native       NaN   \n",
       "35726            Grand Teton National Park     Native  Uncommon   \n",
       "37967          Indiana Dunes National Park     Native       NaN   \n",
       "40455         Rocky Mountain National Park     Native       NaN   \n",
       "43656            Yellowstone National Park     Native    Common   \n",
       "47826               Yosemite National Park    Unknown       NaN   \n",
       "\n",
       "      Conservation Status  Protected  \n",
       "3              Endangered       True  \n",
       "1719        Least Concern      False  \n",
       "6984           Endangered       True  \n",
       "35726          Endangered       True  \n",
       "37967          Endangered       True  \n",
       "40455          Endangered       True  \n",
       "43656       Least Concern      False  \n",
       "47826          Endangered       True  "
      ]
     },
     "execution_count": 13,
     "metadata": {},
     "output_type": "execute_result"
    }
   ],
   "source": [
    "species[species['Scientific Name']=='Canis Lupus']"
   ]
  },
  {
   "cell_type": "markdown",
   "id": "0a5d3dc3",
   "metadata": {},
   "source": [
    "**Abundance** , **Conservation Status** , and **Protected** status vary from park to park."
   ]
  },
  {
   "cell_type": "code",
   "execution_count": 14,
   "id": "e7157510",
   "metadata": {},
   "outputs": [
    {
     "name": "stdout",
     "output_type": "stream",
     "text": [
      "** CATEGORIES **\n",
      "\n",
      "Bird         3161\n",
      "Mammal        794\n",
      "Fish          370\n",
      "Reptile       248\n",
      "Amphibian     177\n",
      "Name: Category, dtype: int64\n",
      "--------------------------------\n",
      "Bird         0.665474\n",
      "Mammal       0.167158\n",
      "Fish         0.077895\n",
      "Reptile      0.052211\n",
      "Amphibian    0.037263\n",
      "Name: Category, dtype: float64\n"
     ]
    }
   ],
   "source": [
    "print('** CATEGORIES **')\n",
    "print()\n",
    "print(species['Category'].value_counts())\n",
    "print('--------------------------------')\n",
    "print(species['Category'].value_counts(normalize=True))"
   ]
  },
  {
   "cell_type": "code",
   "execution_count": 44,
   "id": "315ae5d2",
   "metadata": {},
   "outputs": [
    {
     "name": "stdout",
     "output_type": "stream",
     "text": [
      "    Category  Scientific Name   Percent\n",
      "0  Amphibian              124  0.079640\n",
      "1       Bird              747  0.479769\n",
      "2       Fish              231  0.148362\n",
      "3     Mammal              276  0.177264\n",
      "4    Reptile              179  0.114965\n",
      "-------------------------------------------------\n"
     ]
    },
    {
     "data": {
      "image/png": "[encoded data removed]",
      "text/plain": [
       "<Figure size 432x288 with 1 Axes>"
      ]
     },
     "metadata": {
      "needs_background": "light"
     },
     "output_type": "display_data"
    }
   ],
   "source": [
    "unique_category_counts = species.groupby('Category').agg({'Scientific Name':'nunique'}).reset_index()\n",
    "unique_category_counts['Percent'] = unique_category_counts['Scientific Name'] / species['Scientific Name'].nunique()\n",
    "print(unique_category_counts)\n",
    "print('-------------------------------------------------')\n",
    "\n",
    "plt.bar(unique_category_counts['Category'], unique_category_counts['Percent'], color = '#4682B4')\n",
    "plt.title(\"Percentage of Species by Category\")\n",
    "plt.xlabel(\"Species Category\")\n",
    "plt.ylabel(\"% of the dataset\")\n",
    "plt.show()"
   ]
  },
  {
   "cell_type": "markdown",
   "id": "02563ca2",
   "metadata": {},
   "source": [
    "The majority of our species appears to be **birds** at about 48%, followed by **mammals** (17.7%), **fishes** (14.8%), **reptiles** (11.5%), and **amphibians** (8.0%)"
   ]
  },
  {
   "cell_type": "code",
   "execution_count": 46,
   "id": "76f40fd0",
   "metadata": {},
   "outputs": [
    {
     "name": "stdout",
     "output_type": "stream",
     "text": [
      "CONSERVATION STATUS\n",
      "-------------------\n",
      "Least Concern         3367\n",
      "Species Of Concern    1304\n",
      "Endangered              31\n",
      "Threatened              29\n",
      "In Recovery             19\n",
      "Name: Conservation Status, dtype: int64\n",
      "\n",
      "Least Concern         0.708842\n",
      "Species Of Concern    0.274526\n",
      "Endangered            0.006526\n",
      "Threatened            0.006105\n",
      "In Recovery           0.004000\n",
      "Name: Conservation Status, dtype: float64\n"
     ]
    }
   ],
   "source": [
    "print('CONSERVATION STATUS')\n",
    "print('-------------------')\n",
    "print(species['Conservation Status'].value_counts())\n",
    "print()\n",
    "print(species['Conservation Status'].value_counts(normalize=True))"
   ]
  },
  {
   "cell_type": "code",
   "execution_count": 17,
   "id": "555b640a",
   "metadata": {},
   "outputs": [
    {
     "name": "stdout",
     "output_type": "stream",
     "text": [
      "Species per conservation category:\n",
      "--------------------------------\n",
      "Least Concern                  1220\n",
      "Species Of Concern              295\n",
      "Endangered                       21\n",
      "Threatened                       16\n",
      "In Recovery                       4\n",
      "[Endangered, Least Concern]       1\n",
      "Name: Conservation Status, dtype: int64\n",
      "\n",
      "Percentages of each category for the entire data set:\n",
      "--------------------------------\n",
      "Least Concern                  0.783558\n",
      "Species Of Concern             0.189467\n",
      "Endangered                     0.013487\n",
      "Threatened                     0.010276\n",
      "In Recovery                    0.002569\n",
      "[Endangered, Least Concern]    0.000642\n",
      "Name: Conservation Status, dtype: float64\n"
     ]
    }
   ],
   "source": [
    "unique_status = species.groupby(['Scientific Name', 'Category'])\\\n",
    "                       .agg({'Conservation Status':pd.Series.mode, 'Protected':'sum'})\\\n",
    "                       .reset_index()\n",
    "\n",
    "unique_status = unique_status.rename({'Protected': 'Protected Anywhere?'}, axis = 1)\n",
    "print('Species per conservation category:')\n",
    "print('--------------------------------')\n",
    "print(unique_status['Conservation Status'].value_counts())\n",
    "print()\n",
    "print('Percentages of each category for the entire data set:')\n",
    "print('--------------------------------')\n",
    "print(unique_status['Conservation Status'].value_counts(normalize=True))"
   ]
  },
  {
   "cell_type": "markdown",
   "id": "bd3850a6",
   "metadata": {},
   "source": [
    "Fortunately, it looks like the majority of the species are classified as **Least Concern** (1220 or 78.4%).\n",
    "There are a large number of species that are classifed as **Species of Concern** (295 or 18.9%)\n",
    "**Species of Concern** are at risk of being threatened or endangered.\n",
    "A deeper analysis can highlight these species for further investigation."
   ]
  },
  {
   "cell_type": "code",
   "execution_count": 18,
   "id": "9cd94581",
   "metadata": {},
   "outputs": [
    {
     "data": {
      "text/html": [
       "<div>\n",
       "<style scoped>\n",
       "    .dataframe tbody tr th:only-of-type {\n",
       "        vertical-align: middle;\n",
       "    }\n",
       "\n",
       "    .dataframe tbody tr th {\n",
       "        vertical-align: top;\n",
       "    }\n",
       "\n",
       "    .dataframe thead th {\n",
       "        text-align: right;\n",
       "    }\n",
       "</style>\n",
       "<table border=\"1\" class=\"dataframe\">\n",
       "  <thead>\n",
       "    <tr style=\"text-align: right;\">\n",
       "      <th>Conservation Status</th>\n",
       "      <th>Endangered</th>\n",
       "      <th>In Recovery</th>\n",
       "      <th>Least Concern</th>\n",
       "      <th>Species Of Concern</th>\n",
       "      <th>Threatened</th>\n",
       "    </tr>\n",
       "    <tr>\n",
       "      <th>Category</th>\n",
       "      <th></th>\n",
       "      <th></th>\n",
       "      <th></th>\n",
       "      <th></th>\n",
       "      <th></th>\n",
       "    </tr>\n",
       "  </thead>\n",
       "  <tbody>\n",
       "    <tr>\n",
       "      <th>Amphibian</th>\n",
       "      <td>2.0</td>\n",
       "      <td>NaN</td>\n",
       "      <td>117.0</td>\n",
       "      <td>3.0</td>\n",
       "      <td>2.0</td>\n",
       "    </tr>\n",
       "    <tr>\n",
       "      <th>Bird</th>\n",
       "      <td>4.0</td>\n",
       "      <td>4.0</td>\n",
       "      <td>495.0</td>\n",
       "      <td>241.0</td>\n",
       "      <td>2.0</td>\n",
       "    </tr>\n",
       "    <tr>\n",
       "      <th>Fish</th>\n",
       "      <td>7.0</td>\n",
       "      <td>NaN</td>\n",
       "      <td>209.0</td>\n",
       "      <td>8.0</td>\n",
       "      <td>7.0</td>\n",
       "    </tr>\n",
       "    <tr>\n",
       "      <th>Mammal</th>\n",
       "      <td>8.0</td>\n",
       "      <td>NaN</td>\n",
       "      <td>237.0</td>\n",
       "      <td>29.0</td>\n",
       "      <td>2.0</td>\n",
       "    </tr>\n",
       "    <tr>\n",
       "      <th>Reptile</th>\n",
       "      <td>NaN</td>\n",
       "      <td>NaN</td>\n",
       "      <td>162.0</td>\n",
       "      <td>14.0</td>\n",
       "      <td>3.0</td>\n",
       "    </tr>\n",
       "  </tbody>\n",
       "</table>\n",
       "</div>"
      ],
      "text/plain": [
       "Conservation Status  Endangered  In Recovery  Least Concern  \\\n",
       "Category                                                      \n",
       "Amphibian                   2.0          NaN          117.0   \n",
       "Bird                        4.0          4.0          495.0   \n",
       "Fish                        7.0          NaN          209.0   \n",
       "Mammal                      8.0          NaN          237.0   \n",
       "Reptile                     NaN          NaN          162.0   \n",
       "\n",
       "Conservation Status  Species Of Concern  Threatened  \n",
       "Category                                             \n",
       "Amphibian                           3.0         2.0  \n",
       "Bird                              241.0         2.0  \n",
       "Fish                                8.0         7.0  \n",
       "Mammal                             29.0         2.0  \n",
       "Reptile                            14.0         3.0  "
      ]
     },
     "execution_count": 18,
     "metadata": {},
     "output_type": "execute_result"
    }
   ],
   "source": [
    "unique_status['Conservation Status'] = unique_status['Conservation Status'].astype(str)\n",
    "\n",
    "status_by_category = unique_status.pivot_table(index='Category',\n",
    "                                              columns = 'Conservation Status',\n",
    "                                              values = 'Scientific Name',\n",
    "                                              aggfunc = 'count')\n",
    "status_by_category = status_by_category.drop(\"['Endangered' 'Least Concern']\", axis = 1)\n",
    "\n",
    "status_by_category"
   ]
  },
  {
   "cell_type": "code",
   "execution_count": 19,
   "id": "ede60855",
   "metadata": {},
   "outputs": [
    {
     "data": {
      "image/png": "[encoded data removed]",
      "text/plain": [
       "<Figure size 432x288 with 1 Axes>"
      ]
     },
     "metadata": {
      "needs_background": "light"
     },
     "output_type": "display_data"
    }
   ],
   "source": [
    "plt.bar(status_by_category.index, status_by_category[\"Endangered\"], label = \"Endangered\", color = \"#4682B4\")\n",
    "plt.title(\"Endangered Species by Category\")\n",
    "plt.xlabel(\"Category\")\n",
    "plt.ylabel(\"Count\")\n",
    "plt.show()"
   ]
  },
  {
   "cell_type": "markdown",
   "id": "82736ed7",
   "metadata": {},
   "source": [
    " - Its interesting that while **birds** make up the largest section of our Dataset, there are more endangered **mammals** (8) than endangered **birds** (4).\n",
    " - This helps answer one of our data questions of whether mammals are more favorited than non-mammals in their protective status.\n",
    " - With this in mind, let's also take a look back at our Protected column."
   ]
  },
  {
   "cell_type": "code",
   "execution_count": 20,
   "id": "4fa0f495",
   "metadata": {},
   "outputs": [
    {
     "data": {
      "text/html": [
       "<div>\n",
       "<style scoped>\n",
       "    .dataframe tbody tr th:only-of-type {\n",
       "        vertical-align: middle;\n",
       "    }\n",
       "\n",
       "    .dataframe tbody tr th {\n",
       "        vertical-align: top;\n",
       "    }\n",
       "\n",
       "    .dataframe thead th {\n",
       "        text-align: right;\n",
       "    }\n",
       "</style>\n",
       "<table border=\"1\" class=\"dataframe\">\n",
       "  <thead>\n",
       "    <tr style=\"text-align: right;\">\n",
       "      <th></th>\n",
       "      <th>Protected Anywhere?</th>\n",
       "    </tr>\n",
       "    <tr>\n",
       "      <th>Category</th>\n",
       "      <th></th>\n",
       "    </tr>\n",
       "  </thead>\n",
       "  <tbody>\n",
       "    <tr>\n",
       "      <th>Amphibian</th>\n",
       "      <td>7</td>\n",
       "    </tr>\n",
       "    <tr>\n",
       "      <th>Bird</th>\n",
       "      <td>1187</td>\n",
       "    </tr>\n",
       "    <tr>\n",
       "      <th>Fish</th>\n",
       "      <td>31</td>\n",
       "    </tr>\n",
       "    <tr>\n",
       "      <th>Mammal</th>\n",
       "      <td>130</td>\n",
       "    </tr>\n",
       "    <tr>\n",
       "      <th>Reptile</th>\n",
       "      <td>28</td>\n",
       "    </tr>\n",
       "  </tbody>\n",
       "</table>\n",
       "</div>"
      ],
      "text/plain": [
       "           Protected Anywhere?\n",
       "Category                      \n",
       "Amphibian                    7\n",
       "Bird                      1187\n",
       "Fish                        31\n",
       "Mammal                     130\n",
       "Reptile                     28"
      ]
     },
     "execution_count": 20,
     "metadata": {},
     "output_type": "execute_result"
    }
   ],
   "source": [
    "unique_status.groupby('Category').agg({'Protected Anywhere?':'sum'})"
   ]
  },
  {
   "cell_type": "markdown",
   "id": "3295adf0",
   "metadata": {},
   "source": [
    " - Finally, let's take a quick look at protected and un-protected species using the mode aggregation."
   ]
  },
  {
   "cell_type": "code",
   "execution_count": 21,
   "id": "1d1f5518",
   "metadata": {},
   "outputs": [
    {
     "name": "stdout",
     "output_type": "stream",
     "text": [
      "False    1220\n",
      "True      337\n",
      "Name: Protected, dtype: int64\n",
      "\n",
      "False    0.783558\n",
      "True     0.216442\n",
      "Name: Protected, dtype: float64\n"
     ]
    }
   ],
   "source": [
    "unique_status['Protected'] = unique_status['Conservation Status'] != 'Least Concern'\n",
    "\n",
    "print(unique_status['Protected'].value_counts())\n",
    "print()\n",
    "print(unique_status['Protected'].value_counts(normalize=True))"
   ]
  },
  {
   "cell_type": "code",
   "execution_count": 22,
   "id": "20235324",
   "metadata": {
    "scrolled": true
   },
   "outputs": [
    {
     "data": {
      "image/png": "[encoded data removed]",
      "text/plain": [
       "<Figure size 432x288 with 1 Axes>"
      ]
     },
     "metadata": {
      "needs_background": "light"
     },
     "output_type": "display_data"
    }
   ],
   "source": [
    "protected_counts = unique_status['Protected'].astype(int).value_counts()\n",
    "\n",
    "plt.bar(protected_counts.index, protected_counts, color='#4682B4')\n",
    "plt.title(\"Protected Counts of Unique Species\")\n",
    "plt.xticks(protected_counts.index, ['False', 'True'])\n",
    "plt.yticks(range(0, 1221, 200))\n",
    "plt.show()"
   ]
  },
  {
   "cell_type": "markdown",
   "id": "a6678eed",
   "metadata": {},
   "source": [
    "Looking at the protection numbers, we see that that 1220 (or 78.4%) of species in our dataset are not protected, compared to 337 (or 21.6%) of species that are protected."
   ]
  },
  {
   "cell_type": "markdown",
   "id": "d346e42c",
   "metadata": {},
   "source": [
    "This information does a good job of summarizing the data set through the endangered lens we are hoping to explore.\n",
    "With this information available, we can begin to draw conclusions on our 4 questions for this exercise."
   ]
  },
  {
   "cell_type": "markdown",
   "id": "2c7cc8e4",
   "metadata": {},
   "source": [
    "### Data Question #1: How does conservation status differ across national parks?\n",
    "\n",
    " - Each national park holds unique species that have adapted to their specific habitat and natural ecoystems.\n",
    " - The impacts of a changing climate, invasive species, and other human related factors can cause challenges for these species.\n",
    " - To better understand this, let's take a look at how conservation status changes across the different parks in our dataset."
   ]
  },
  {
   "cell_type": "code",
   "execution_count": 23,
   "id": "03f834c7",
   "metadata": {},
   "outputs": [
    {
     "data": {
      "text/html": [
       "<div>\n",
       "<style scoped>\n",
       "    .dataframe tbody tr th:only-of-type {\n",
       "        vertical-align: middle;\n",
       "    }\n",
       "\n",
       "    .dataframe tbody tr th {\n",
       "        vertical-align: top;\n",
       "    }\n",
       "\n",
       "    .dataframe thead th {\n",
       "        text-align: right;\n",
       "    }\n",
       "</style>\n",
       "<table border=\"1\" class=\"dataframe\">\n",
       "  <thead>\n",
       "    <tr style=\"text-align: right;\">\n",
       "      <th></th>\n",
       "      <th>Park Name</th>\n",
       "      <th>Endangered</th>\n",
       "      <th>In Recovery</th>\n",
       "      <th>Least Concern</th>\n",
       "      <th>Species of Concern</th>\n",
       "      <th>Threatened</th>\n",
       "    </tr>\n",
       "  </thead>\n",
       "  <tbody>\n",
       "    <tr>\n",
       "      <th>0</th>\n",
       "      <td>Acadia National Park</td>\n",
       "      <td>3.0</td>\n",
       "      <td>2.0</td>\n",
       "      <td>330.0</td>\n",
       "      <td>148.0</td>\n",
       "      <td>NaN</td>\n",
       "    </tr>\n",
       "    <tr>\n",
       "      <th>1</th>\n",
       "      <td>Glacier National Park</td>\n",
       "      <td>NaN</td>\n",
       "      <td>1.0</td>\n",
       "      <td>271.0</td>\n",
       "      <td>108.0</td>\n",
       "      <td>3.0</td>\n",
       "    </tr>\n",
       "    <tr>\n",
       "      <th>2</th>\n",
       "      <td>Grand Canyon National Park</td>\n",
       "      <td>5.0</td>\n",
       "      <td>3.0</td>\n",
       "      <td>496.0</td>\n",
       "      <td>173.0</td>\n",
       "      <td>6.0</td>\n",
       "    </tr>\n",
       "    <tr>\n",
       "      <th>3</th>\n",
       "      <td>Grand Teton National Park</td>\n",
       "      <td>1.0</td>\n",
       "      <td>2.0</td>\n",
       "      <td>256.0</td>\n",
       "      <td>113.0</td>\n",
       "      <td>2.0</td>\n",
       "    </tr>\n",
       "    <tr>\n",
       "      <th>4</th>\n",
       "      <td>Great Smoky Mountains National Park</td>\n",
       "      <td>9.0</td>\n",
       "      <td>1.0</td>\n",
       "      <td>505.0</td>\n",
       "      <td>115.0</td>\n",
       "      <td>3.0</td>\n",
       "    </tr>\n",
       "    <tr>\n",
       "      <th>5</th>\n",
       "      <td>Indiana Dunes National Park</td>\n",
       "      <td>4.0</td>\n",
       "      <td>4.0</td>\n",
       "      <td>389.0</td>\n",
       "      <td>144.0</td>\n",
       "      <td>1.0</td>\n",
       "    </tr>\n",
       "    <tr>\n",
       "      <th>6</th>\n",
       "      <td>Rocky Mountain National Park</td>\n",
       "      <td>1.0</td>\n",
       "      <td>1.0</td>\n",
       "      <td>259.0</td>\n",
       "      <td>109.0</td>\n",
       "      <td>3.0</td>\n",
       "    </tr>\n",
       "    <tr>\n",
       "      <th>7</th>\n",
       "      <td>Yellowstone National Park</td>\n",
       "      <td>1.0</td>\n",
       "      <td>2.0</td>\n",
       "      <td>299.0</td>\n",
       "      <td>137.0</td>\n",
       "      <td>4.0</td>\n",
       "    </tr>\n",
       "    <tr>\n",
       "      <th>8</th>\n",
       "      <td>Yosemite National Park</td>\n",
       "      <td>5.0</td>\n",
       "      <td>2.0</td>\n",
       "      <td>273.0</td>\n",
       "      <td>119.0</td>\n",
       "      <td>4.0</td>\n",
       "    </tr>\n",
       "    <tr>\n",
       "      <th>9</th>\n",
       "      <td>Zion National Park</td>\n",
       "      <td>2.0</td>\n",
       "      <td>1.0</td>\n",
       "      <td>289.0</td>\n",
       "      <td>138.0</td>\n",
       "      <td>3.0</td>\n",
       "    </tr>\n",
       "  </tbody>\n",
       "</table>\n",
       "</div>"
      ],
      "text/plain": [
       "                             Park Name  Endangered  In Recovery  \\\n",
       "0                 Acadia National Park         3.0          2.0   \n",
       "1                Glacier National Park         NaN          1.0   \n",
       "2           Grand Canyon National Park         5.0          3.0   \n",
       "3            Grand Teton National Park         1.0          2.0   \n",
       "4  Great Smoky Mountains National Park         9.0          1.0   \n",
       "5          Indiana Dunes National Park         4.0          4.0   \n",
       "6         Rocky Mountain National Park         1.0          1.0   \n",
       "7            Yellowstone National Park         1.0          2.0   \n",
       "8               Yosemite National Park         5.0          2.0   \n",
       "9                   Zion National Park         2.0          1.0   \n",
       "\n",
       "   Least Concern  Species of Concern  Threatened  \n",
       "0          330.0               148.0         NaN  \n",
       "1          271.0               108.0         3.0  \n",
       "2          496.0               173.0         6.0  \n",
       "3          256.0               113.0         2.0  \n",
       "4          505.0               115.0         3.0  \n",
       "5          389.0               144.0         1.0  \n",
       "6          259.0               109.0         3.0  \n",
       "7          299.0               137.0         4.0  \n",
       "8          273.0               119.0         4.0  \n",
       "9          289.0               138.0         3.0  "
      ]
     },
     "execution_count": 23,
     "metadata": {},
     "output_type": "execute_result"
    }
   ],
   "source": [
    "# species['Park Name'].value_counts()\n",
    "\n",
    "status_by_park = species.pivot_table(index = 'Park Name',\n",
    "                                    columns = 'Conservation Status',\n",
    "                                    values = 'Scientific Name',\n",
    "                                    aggfunc = 'count')\n",
    "status_by_park.columns = ['Endangered','In Recovery','Least Concern','Species of Concern','Threatened']\n",
    "status_by_park = status_by_park.reset_index()\n",
    "status_by_park"
   ]
  },
  {
   "cell_type": "code",
   "execution_count": 24,
   "id": "8d984641",
   "metadata": {
    "scrolled": true
   },
   "outputs": [
    {
     "data": {
      "image/png": "[encoded data removed]",
      "text/plain": [
       "<Figure size 432x288 with 1 Axes>"
      ]
     },
     "metadata": {
      "needs_background": "light"
     },
     "output_type": "display_data"
    }
   ],
   "source": [
    "status_by_park['Short Park Name'] = status_by_park['Park Name'].apply(lambda x: x.split('National Park')[0].strip())\n",
    "\n",
    "plt.bar(status_by_park['Short Park Name'], status_by_park['Endangered'], color='#4682B4', width = 0.8)\n",
    "plt.tick_params(axis='x', labelrotation = 90)\n",
    "plt.title('Endangered Species per US National Park')\n",
    "\n",
    "plt.show()\n"
   ]
  },
  {
   "cell_type": "markdown",
   "id": "6adfdc22",
   "metadata": {},
   "source": [
    "We see diversity in endangered species across our parks.\n",
    "**Great Smoky Mountains** National Park has the most endangered species (9), followed by **Grand Canyon** and **Yosemite** (5), **Indiana Dunes** (4), **Acadia** (3), **Zion** (2), and lastly the **Grand Teton**, **Rocky Mountain**, and **Yellowstone** (1). **Glacier** National Park has no endangered species in our dataset.\n",
    " \n",
    "Lets also take a look at **Protected** species."
   ]
  },
  {
   "cell_type": "code",
   "execution_count": 25,
   "id": "907b9ac1",
   "metadata": {},
   "outputs": [
    {
     "data": {
      "text/html": [
       "<div>\n",
       "<style scoped>\n",
       "    .dataframe tbody tr th:only-of-type {\n",
       "        vertical-align: middle;\n",
       "    }\n",
       "\n",
       "    .dataframe tbody tr th {\n",
       "        vertical-align: top;\n",
       "    }\n",
       "\n",
       "    .dataframe thead th {\n",
       "        text-align: right;\n",
       "    }\n",
       "</style>\n",
       "<table border=\"1\" class=\"dataframe\">\n",
       "  <thead>\n",
       "    <tr style=\"text-align: right;\">\n",
       "      <th></th>\n",
       "      <th>Park Name</th>\n",
       "      <th>Count Protected</th>\n",
       "      <th>Percent protected</th>\n",
       "    </tr>\n",
       "  </thead>\n",
       "  <tbody>\n",
       "    <tr>\n",
       "      <th>0</th>\n",
       "      <td>Acadia National Park</td>\n",
       "      <td>153</td>\n",
       "      <td>0.316770</td>\n",
       "    </tr>\n",
       "    <tr>\n",
       "      <th>1</th>\n",
       "      <td>Glacier National Park</td>\n",
       "      <td>112</td>\n",
       "      <td>0.292428</td>\n",
       "    </tr>\n",
       "    <tr>\n",
       "      <th>2</th>\n",
       "      <td>Grand Canyon National Park</td>\n",
       "      <td>187</td>\n",
       "      <td>0.273792</td>\n",
       "    </tr>\n",
       "    <tr>\n",
       "      <th>3</th>\n",
       "      <td>Grand Teton National Park</td>\n",
       "      <td>118</td>\n",
       "      <td>0.315508</td>\n",
       "    </tr>\n",
       "    <tr>\n",
       "      <th>4</th>\n",
       "      <td>Great Smoky Mountains National Park</td>\n",
       "      <td>128</td>\n",
       "      <td>0.202212</td>\n",
       "    </tr>\n",
       "    <tr>\n",
       "      <th>5</th>\n",
       "      <td>Indiana Dunes National Park</td>\n",
       "      <td>153</td>\n",
       "      <td>0.282288</td>\n",
       "    </tr>\n",
       "    <tr>\n",
       "      <th>6</th>\n",
       "      <td>Rocky Mountain National Park</td>\n",
       "      <td>114</td>\n",
       "      <td>0.305630</td>\n",
       "    </tr>\n",
       "    <tr>\n",
       "      <th>7</th>\n",
       "      <td>Yellowstone National Park</td>\n",
       "      <td>144</td>\n",
       "      <td>0.325056</td>\n",
       "    </tr>\n",
       "    <tr>\n",
       "      <th>8</th>\n",
       "      <td>Yosemite National Park</td>\n",
       "      <td>130</td>\n",
       "      <td>0.322581</td>\n",
       "    </tr>\n",
       "    <tr>\n",
       "      <th>9</th>\n",
       "      <td>Zion National Park</td>\n",
       "      <td>144</td>\n",
       "      <td>0.332564</td>\n",
       "    </tr>\n",
       "  </tbody>\n",
       "</table>\n",
       "</div>"
      ],
      "text/plain": [
       "                             Park Name  Count Protected  Percent protected\n",
       "0                 Acadia National Park              153           0.316770\n",
       "1                Glacier National Park              112           0.292428\n",
       "2           Grand Canyon National Park              187           0.273792\n",
       "3            Grand Teton National Park              118           0.315508\n",
       "4  Great Smoky Mountains National Park              128           0.202212\n",
       "5          Indiana Dunes National Park              153           0.282288\n",
       "6         Rocky Mountain National Park              114           0.305630\n",
       "7            Yellowstone National Park              144           0.325056\n",
       "8               Yosemite National Park              130           0.322581\n",
       "9                   Zion National Park              144           0.332564"
      ]
     },
     "execution_count": 25,
     "metadata": {},
     "output_type": "execute_result"
    }
   ],
   "source": [
    "protected_by_park = species.groupby('Park Name').agg({'Protected': ['sum', 'mean']}).reset_index()\n",
    "protected_by_park.columns = ['Park Name', 'Count Protected', 'Percent protected']\n",
    "protected_by_park"
   ]
  },
  {
   "cell_type": "code",
   "execution_count": 26,
   "id": "4e295564",
   "metadata": {},
   "outputs": [
    {
     "data": {
      "image/png": "[encoded data removed]",
      "text/plain": [
       "<Figure size 432x288 with 1 Axes>"
      ]
     },
     "metadata": {
      "needs_background": "light"
     },
     "output_type": "display_data"
    }
   ],
   "source": [
    "y_values = protected_by_park['Percent protected'] * 10\n",
    "plt.bar(protected_by_park['Park Name'], y_values, color = '#4682B4')\n",
    "plt.title('Protected species in US National Parks')\n",
    "plt.tick_params(axis = 'x', labelrotation = 90)\n",
    "plt.ylabel('Percentage (%)')\n",
    "plt.show()"
   ]
  },
  {
   "cell_type": "code",
   "execution_count": 27,
   "id": "ffe02ccb",
   "metadata": {},
   "outputs": [
    {
     "name": "stdout",
     "output_type": "stream",
     "text": [
      "Protection Statistics Across All National Parks\n",
      "--------------------------------\n",
      "Mean %: 0.29688286288771515\n",
      "Std. Dev: 0.03643463118076456\n"
     ]
    }
   ],
   "source": [
    "print(\"Protection Statistics Across All National Parks\")\n",
    "print('--------------------------------')\n",
    "print(\"Mean %:\", np.mean(protected_by_park['Percent protected']))\n",
    "print(\"Std. Dev:\", np.std(protected_by_park['Percent protected']))"
   ]
  },
  {
   "cell_type": "markdown",
   "id": "7bcabe24",
   "metadata": {},
   "source": [
    "### Data Question #2: Are mammal species more likely to be protected than non-mammal species?\n",
    "\n",
    "We will explore this question by investigating the number of protected mammals compared to the number of protected non-mammals in our dataset.\n",
    "Luckily, we have our unique_status variable already created to begin exploring this information."
   ]
  },
  {
   "cell_type": "code",
   "execution_count": 28,
   "id": "8a901761",
   "metadata": {},
   "outputs": [
    {
     "data": {
      "text/html": [
       "<div>\n",
       "<style scoped>\n",
       "    .dataframe tbody tr th:only-of-type {\n",
       "        vertical-align: middle;\n",
       "    }\n",
       "\n",
       "    .dataframe tbody tr th {\n",
       "        vertical-align: top;\n",
       "    }\n",
       "\n",
       "    .dataframe thead th {\n",
       "        text-align: right;\n",
       "    }\n",
       "</style>\n",
       "<table border=\"1\" class=\"dataframe\">\n",
       "  <thead>\n",
       "    <tr style=\"text-align: right;\">\n",
       "      <th></th>\n",
       "      <th>Scientific Name</th>\n",
       "      <th>Category</th>\n",
       "      <th>Conservation Status</th>\n",
       "      <th>Protected Anywhere?</th>\n",
       "      <th>Protected</th>\n",
       "    </tr>\n",
       "  </thead>\n",
       "  <tbody>\n",
       "    <tr>\n",
       "      <th>0</th>\n",
       "      <td>Acanthis Flammea</td>\n",
       "      <td>Bird</td>\n",
       "      <td>Least Concern</td>\n",
       "      <td>0</td>\n",
       "      <td>False</td>\n",
       "    </tr>\n",
       "    <tr>\n",
       "      <th>1</th>\n",
       "      <td>Acanthus Flammea</td>\n",
       "      <td>Bird</td>\n",
       "      <td>Least Concern</td>\n",
       "      <td>0</td>\n",
       "      <td>False</td>\n",
       "    </tr>\n",
       "    <tr>\n",
       "      <th>2</th>\n",
       "      <td>Accipiter Cooperii</td>\n",
       "      <td>Bird</td>\n",
       "      <td>Species Of Concern</td>\n",
       "      <td>10</td>\n",
       "      <td>True</td>\n",
       "    </tr>\n",
       "    <tr>\n",
       "      <th>3</th>\n",
       "      <td>Accipiter Gentilis</td>\n",
       "      <td>Bird</td>\n",
       "      <td>Least Concern</td>\n",
       "      <td>0</td>\n",
       "      <td>False</td>\n",
       "    </tr>\n",
       "    <tr>\n",
       "      <th>4</th>\n",
       "      <td>Accipiter Striatus</td>\n",
       "      <td>Bird</td>\n",
       "      <td>Species Of Concern</td>\n",
       "      <td>10</td>\n",
       "      <td>True</td>\n",
       "    </tr>\n",
       "  </tbody>\n",
       "</table>\n",
       "</div>"
      ],
      "text/plain": [
       "      Scientific Name Category Conservation Status  Protected Anywhere?  \\\n",
       "0    Acanthis Flammea     Bird       Least Concern                    0   \n",
       "1    Acanthus Flammea     Bird       Least Concern                    0   \n",
       "2  Accipiter Cooperii     Bird  Species Of Concern                   10   \n",
       "3  Accipiter Gentilis     Bird       Least Concern                    0   \n",
       "4  Accipiter Striatus     Bird  Species Of Concern                   10   \n",
       "\n",
       "   Protected  \n",
       "0      False  \n",
       "1      False  \n",
       "2       True  \n",
       "3      False  \n",
       "4       True  "
      ]
     },
     "execution_count": 28,
     "metadata": {},
     "output_type": "execute_result"
    }
   ],
   "source": [
    "unique_status.head()"
   ]
  },
  {
   "cell_type": "code",
   "execution_count": 29,
   "id": "58cac043",
   "metadata": {},
   "outputs": [
    {
     "data": {
      "text/html": [
       "<div>\n",
       "<style scoped>\n",
       "    .dataframe tbody tr th:only-of-type {\n",
       "        vertical-align: middle;\n",
       "    }\n",
       "\n",
       "    .dataframe tbody tr th {\n",
       "        vertical-align: top;\n",
       "    }\n",
       "\n",
       "    .dataframe thead th {\n",
       "        text-align: right;\n",
       "    }\n",
       "</style>\n",
       "<table border=\"1\" class=\"dataframe\">\n",
       "  <thead>\n",
       "    <tr style=\"text-align: right;\">\n",
       "      <th></th>\n",
       "      <th>Category</th>\n",
       "      <th>Not Protected</th>\n",
       "      <th>Protected</th>\n",
       "      <th>Percent Protected</th>\n",
       "    </tr>\n",
       "  </thead>\n",
       "  <tbody>\n",
       "    <tr>\n",
       "      <th>0</th>\n",
       "      <td>Amphibian</td>\n",
       "      <td>117</td>\n",
       "      <td>7</td>\n",
       "      <td>5.645161</td>\n",
       "    </tr>\n",
       "    <tr>\n",
       "      <th>1</th>\n",
       "      <td>Bird</td>\n",
       "      <td>495</td>\n",
       "      <td>252</td>\n",
       "      <td>33.734940</td>\n",
       "    </tr>\n",
       "    <tr>\n",
       "      <th>2</th>\n",
       "      <td>Fish</td>\n",
       "      <td>209</td>\n",
       "      <td>22</td>\n",
       "      <td>9.523810</td>\n",
       "    </tr>\n",
       "    <tr>\n",
       "      <th>3</th>\n",
       "      <td>Mammal</td>\n",
       "      <td>237</td>\n",
       "      <td>39</td>\n",
       "      <td>14.130435</td>\n",
       "    </tr>\n",
       "    <tr>\n",
       "      <th>4</th>\n",
       "      <td>Reptile</td>\n",
       "      <td>162</td>\n",
       "      <td>17</td>\n",
       "      <td>9.497207</td>\n",
       "    </tr>\n",
       "  </tbody>\n",
       "</table>\n",
       "</div>"
      ],
      "text/plain": [
       "    Category  Not Protected  Protected  Percent Protected\n",
       "0  Amphibian            117          7           5.645161\n",
       "1       Bird            495        252          33.734940\n",
       "2       Fish            209         22           9.523810\n",
       "3     Mammal            237         39          14.130435\n",
       "4    Reptile            162         17           9.497207"
      ]
     },
     "execution_count": 29,
     "metadata": {},
     "output_type": "execute_result"
    }
   ],
   "source": [
    "category_counts = unique_status.pivot_table(columns = 'Protected',\n",
    "                                           index = 'Category',\n",
    "                                           values = 'Scientific Name', \n",
    "                                           aggfunc = 'count')\n",
    "\n",
    "category_counts.columns = ['Not Protected', 'Protected']\n",
    "category_counts = category_counts.reset_index()\n",
    "category_counts['Percent Protected'] = category_counts['Protected'] / \\\n",
    "                                        (category_counts['Protected'] + category_counts['Not Protected']) * 100\n",
    "\n",
    "category_counts"
   ]
  },
  {
   "cell_type": "markdown",
   "id": "df042c89",
   "metadata": {},
   "source": [
    " - We are already starting to see some discrepancies based on the percentages, specifically 33.7% of birds are protected compared to the next largest group of mammals with 14.1%."
   ]
  },
  {
   "cell_type": "code",
   "execution_count": 30,
   "id": "13f2b2cd",
   "metadata": {},
   "outputs": [
    {
     "data": {
      "image/png": "[encoded data removed]",
      "text/plain": [
       "<Figure size 432x288 with 1 Axes>"
      ]
     },
     "metadata": {
      "needs_background": "light"
     },
     "output_type": "display_data"
    }
   ],
   "source": [
    "bar_width = 0.3\n",
    "plt.bar(category_counts.index, category_counts['Not Protected'], width = bar_width, label = 'Not Protected', color = '#4682B4')\n",
    "plt.bar(category_counts.index + bar_width, category_counts['Protected'], width = bar_width, label = 'Protected', color = '#DC143C')\n",
    "\n",
    "plt.title('Protected vs. Unprotected Counts by Species')\n",
    "plt.xlabel('Species')\n",
    "plt.ylabel('Count')\n",
    "plt.xticks(category_counts.index + bar_width / 2, category_counts['Category'].astype(str))\n",
    "plt.legend()\n",
    "plt.show()"
   ]
  },
  {
   "cell_type": "markdown",
   "id": "dbf430f5",
   "metadata": {},
   "source": [
    "Its starting to seem like there is an argument in favor of common protection regardless of species, but the number of birds stands out due to its larger representation in the dataset.\n",
    "This is an excellent opportunity to run a **Chi-squared test** to verify a connection between the **Category** and **Protected** variables. "
   ]
  },
  {
   "cell_type": "code",
   "execution_count": 31,
   "id": "5bf6e0d4",
   "metadata": {},
   "outputs": [],
   "source": [
    "from scipy.stats import chi2_contingency"
   ]
  },
  {
   "cell_type": "code",
   "execution_count": 32,
   "id": "4ed88fb2",
   "metadata": {},
   "outputs": [
    {
     "data": {
      "text/html": [
       "<div>\n",
       "<style scoped>\n",
       "    .dataframe tbody tr th:only-of-type {\n",
       "        vertical-align: middle;\n",
       "    }\n",
       "\n",
       "    .dataframe tbody tr th {\n",
       "        vertical-align: top;\n",
       "    }\n",
       "\n",
       "    .dataframe thead th {\n",
       "        text-align: right;\n",
       "    }\n",
       "</style>\n",
       "<table border=\"1\" class=\"dataframe\">\n",
       "  <thead>\n",
       "    <tr style=\"text-align: right;\">\n",
       "      <th>Protected</th>\n",
       "      <th>False</th>\n",
       "      <th>True</th>\n",
       "    </tr>\n",
       "    <tr>\n",
       "      <th>Category</th>\n",
       "      <th></th>\n",
       "      <th></th>\n",
       "    </tr>\n",
       "  </thead>\n",
       "  <tbody>\n",
       "    <tr>\n",
       "      <th>Amphibian</th>\n",
       "      <td>117</td>\n",
       "      <td>7</td>\n",
       "    </tr>\n",
       "    <tr>\n",
       "      <th>Bird</th>\n",
       "      <td>495</td>\n",
       "      <td>252</td>\n",
       "    </tr>\n",
       "    <tr>\n",
       "      <th>Fish</th>\n",
       "      <td>209</td>\n",
       "      <td>22</td>\n",
       "    </tr>\n",
       "    <tr>\n",
       "      <th>Mammal</th>\n",
       "      <td>237</td>\n",
       "      <td>39</td>\n",
       "    </tr>\n",
       "    <tr>\n",
       "      <th>Reptile</th>\n",
       "      <td>162</td>\n",
       "      <td>17</td>\n",
       "    </tr>\n",
       "  </tbody>\n",
       "</table>\n",
       "</div>"
      ],
      "text/plain": [
       "Protected  False  True\n",
       "Category              \n",
       "Amphibian    117     7\n",
       "Bird         495   252\n",
       "Fish         209    22\n",
       "Mammal       237    39\n",
       "Reptile      162    17"
      ]
     },
     "execution_count": 32,
     "metadata": {},
     "output_type": "execute_result"
    }
   ],
   "source": [
    "contingency_table = pd.crosstab(unique_status['Category'], unique_status['Protected'])\n",
    "contingency_table"
   ]
  },
  {
   "cell_type": "code",
   "execution_count": 33,
   "id": "088130b9",
   "metadata": {},
   "outputs": [
    {
     "name": "stdout",
     "output_type": "stream",
     "text": [
      "Chi-square statistic:  127.87497939202984\n",
      "p-value:  1.1086552917070772e-26\n"
     ]
    }
   ],
   "source": [
    "chi2, pval, dof, expected = chi2_contingency(contingency_table)\n",
    "print(\"Chi-square statistic: \", chi2)\n",
    "print('p-value: ', pval)"
   ]
  },
  {
   "cell_type": "markdown",
   "id": "a3882edf",
   "metadata": {},
   "source": [
    " - The Chi-squared test comparing the protected percentages across all categories of species resulted in a test statistic of 127.87 corresponding to a p-value of 1.11e-26 (extremely low, based on the standard threshold of 0.05). This leads us to reject the null hypothesis, that there is no association between category and protected status. However, this could be impacted by one particular category (**birds**, for example), so we'll need to investigate individual comparisons further.\n",
    " - We can start by comparing **Mammals** with **amphibians**.\n"
   ]
  },
  {
   "cell_type": "code",
   "execution_count": 34,
   "id": "5065dac7",
   "metadata": {},
   "outputs": [
    {
     "name": "stdout",
     "output_type": "stream",
     "text": [
      "Chi-squared test statistic: 5.247851110300351\n",
      "P-value: 0.021973891604423347\n"
     ]
    }
   ],
   "source": [
    "category1 = 'Mammal'\n",
    "category2 = 'Amphibian'\n",
    "\n",
    "mammal_amphibian = unique_status[(unique_status['Category']== category1) | (unique_status['Category']==category2)]\n",
    "contingency_table1 = pd.crosstab(mammal_amphibian['Category'], mammal_amphibian['Protected'])\n",
    "\n",
    "chi2, pvalue, dof, expected = chi2_contingency(contingency_table1)\n",
    "\n",
    "print(\"Chi-squared test statistic:\", chi2)\n",
    "print(\"P-value:\", pvalue)"
   ]
  },
  {
   "cell_type": "markdown",
   "id": "94eb9437",
   "metadata": {},
   "source": [
    "The Chi-squared test comparing the protected percentages of Mammals to Amphibians resulted in a test statistic of 5.25. This corresponds to a p-value of 0.022 and again, leads us to reject the null hypothesis that there is no association between protected status and the categories of **mammals** and **amphibians**. \n",
    "We can now say with confidence that statistically there is an association for these two categories and protected status.\n",
    "We can continue this experiment by comparing **Mammals** to **Birds**."
   ]
  },
  {
   "cell_type": "code",
   "execution_count": 35,
   "id": "1305a84f",
   "metadata": {},
   "outputs": [
    {
     "name": "stdout",
     "output_type": "stream",
     "text": [
      "Protected  False  True\n",
      "Category              \n",
      "Bird         495   252\n",
      "Mammal       237    39\n",
      "Chi-squared test statistic: 37.0980365208338\n",
      "P-value: 1.1233678131046551e-09\n"
     ]
    }
   ],
   "source": [
    "category1 = 'Mammal'\n",
    "category2 = 'Bird'\n",
    "\n",
    "mammal_bird = unique_status[(unique_status['Category']== category1) | (unique_status['Category']==category2)]\n",
    "contingency_table2 = pd.crosstab(mammal_bird['Category'], mammal_bird['Protected'])\n",
    "print(contingency_table2)\n",
    "\n",
    "chi2, pvalue, dof, expected = chi2_contingency(contingency_table2)\n",
    "\n",
    "print(\"Chi-squared test statistic:\", chi2)\n",
    "print(\"P-value:\", pvalue)"
   ]
  },
  {
   "cell_type": "markdown",
   "id": "dc343d7e",
   "metadata": {},
   "source": [
    "The Chi-squared test comparing the protected percentages of **Mammals** to **Birds** resulted in a test statistic of 37.10. This corresponds to a p-value of 1.12e-09, still within the parameters of a successful correllation (0.05).\n",
    "Next, let's compare the percentages of protection in Mammals to Fish."
   ]
  },
  {
   "cell_type": "code",
   "execution_count": 36,
   "id": "53704187",
   "metadata": {},
   "outputs": [
    {
     "name": "stdout",
     "output_type": "stream",
     "text": [
      "Chi-squared test statistic: 2.1048706038559013\n",
      "P-value: 0.146830763509396\n"
     ]
    }
   ],
   "source": [
    "category1 = 'Mammal'\n",
    "category2 = 'Fish'\n",
    "\n",
    "mammal_fish = unique_status[(unique_status['Category']== category1) | (unique_status['Category']==category2)]\n",
    "contingency_table3 = pd.crosstab(mammal_fish['Category'], mammal_fish['Protected'])\n",
    "# print(contingency_table3)\n",
    "\n",
    "chi2, pvalue, dof, expected = chi2_contingency(contingency_table3)\n",
    "\n",
    "print(\"Chi-squared test statistic:\", chi2)\n",
    "print(\"P-value:\", pvalue)"
   ]
  },
  {
   "cell_type": "markdown",
   "id": "fba609d9",
   "metadata": {},
   "source": [
    "The Chi-squared test comparing the protected percentages of **Mammals** to **Fish** resulted in a test statistic of 2.10. \n",
    "This corresponds to a p-value of 0.15 which is larger than our threshold of .05, which tell us that we cannot reject the null hypothesis for this particular aspect of the dataset.\n",
    "\n",
    "Finally, let's compare the percentages of protection in Mammals to Reptiles."
   ]
  },
  {
   "cell_type": "code",
   "execution_count": 37,
   "id": "9d3fc0a6",
   "metadata": {},
   "outputs": [
    {
     "name": "stdout",
     "output_type": "stream",
     "text": [
      "Chi-squared test statistic: 1.7516810801419596\n",
      "P-value: 0.18566553668410238\n"
     ]
    }
   ],
   "source": [
    "category1 = 'Mammal'\n",
    "category2 = 'Reptile'\n",
    "\n",
    "mammal_reptile = unique_status[(unique_status['Category']== category1) | (unique_status['Category']==category2)]\n",
    "contingency_table4 = pd.crosstab(mammal_reptile['Category'], mammal_reptile['Protected'])\n",
    "\n",
    "chi2, pvalue, dof, expected = chi2_contingency(contingency_table4)\n",
    "\n",
    "print(\"Chi-squared test statistic:\", chi2)\n",
    "print(\"P-value:\", pvalue)"
   ]
  },
  {
   "cell_type": "markdown",
   "id": "3681d754",
   "metadata": {},
   "source": [
    "The Chi-squared test comparing the protected percentages of **Mammals** to **Reptiles** resulted in a test statistic of 1.75. This corresponds to a p-value of 0.19 which is also not significant meaning we cannot reject the null hypothesis (that there again is no association)."
   ]
  },
  {
   "cell_type": "markdown",
   "id": "9087d24d",
   "metadata": {},
   "source": [
    "#### Conclusion :\n",
    "When reviewing the results of our statistical tests, we can confidently say that there is no evidence of a consistent bias favoring **Mammals** over **Non-Mammals** in terms of their protection status.\n",
    "The review also revealed a potential area for improvement on future data collections, specifically related to **fish** and **reptile** populations."
   ]
  },
  {
   "cell_type": "markdown",
   "id": "a8af284e",
   "metadata": {},
   "source": [
    "### Data Question #3: Are native species more likely to be protected than non-native species?\n",
    "\n",
    "Native species are species that have existed and co-evolved with their native natural ecosystems along with other native species. Non-native species are often referred to as alien or invasive species that have been introduced non-organically by humans or other significant events.\n",
    " \n",
    "We can start by counting the number of native and non-native species using the information in the **Nativeness** column.\n"
   ]
  },
  {
   "cell_type": "code",
   "execution_count": 38,
   "id": "91749abd",
   "metadata": {},
   "outputs": [
    {
     "name": "stdout",
     "output_type": "stream",
     "text": [
      "Native        4138\n",
      "Non-Native     352\n",
      "Unknown        193\n",
      "Name: Nativeness, dtype: int64\n",
      "\n",
      "Native        0.883622\n",
      "Non-Native    0.075165\n",
      "Unknown       0.041213\n",
      "Name: Nativeness, dtype: float64\n"
     ]
    }
   ],
   "source": [
    "print(species['Nativeness'].value_counts())\n",
    "print()\n",
    "print(species['Nativeness'].value_counts(normalize=True))"
   ]
  },
  {
   "cell_type": "code",
   "execution_count": 39,
   "id": "713f2a08",
   "metadata": {},
   "outputs": [
    {
     "data": {
      "image/png": "[encoded data removed]",
      "text/plain": [
       "<Figure size 432x288 with 1 Axes>"
      ]
     },
     "metadata": {
      "needs_background": "light"
     },
     "output_type": "display_data"
    },
    {
     "data": {
      "text/plain": [
       "Native        88.362161\n",
       "Non-Native     7.516549\n",
       "Unknown        4.121290\n",
       "Name: Nativeness, dtype: float64"
      ]
     },
     "execution_count": 39,
     "metadata": {},
     "output_type": "execute_result"
    }
   ],
   "source": [
    "nativeness_counts = species['Nativeness'].value_counts(normalize=True)\n",
    "plt.bar(nativeness_counts.index, nativeness_counts.values, color = '#4682B4')\n",
    "plt.show()\n",
    "nativeness_counts * 100"
   ]
  },
  {
   "cell_type": "markdown",
   "id": "8df9f1b4",
   "metadata": {},
   "source": [
    "We can see that a majority of our species (88%) are native to their environment.\n",
    "Let's count the number of **Protected** and **Not Protected** species for **Native** and **Non-Native** species. We'll also calculate the percentages of protection for each group."
   ]
  },
  {
   "cell_type": "code",
   "execution_count": 40,
   "id": "18810459",
   "metadata": {},
   "outputs": [
    {
     "data": {
      "text/html": [
       "<div>\n",
       "<style scoped>\n",
       "    .dataframe tbody tr th:only-of-type {\n",
       "        vertical-align: middle;\n",
       "    }\n",
       "\n",
       "    .dataframe tbody tr th {\n",
       "        vertical-align: top;\n",
       "    }\n",
       "\n",
       "    .dataframe thead th {\n",
       "        text-align: right;\n",
       "    }\n",
       "</style>\n",
       "<table border=\"1\" class=\"dataframe\">\n",
       "  <thead>\n",
       "    <tr style=\"text-align: right;\">\n",
       "      <th></th>\n",
       "      <th>Nativeness</th>\n",
       "      <th>Not Protected</th>\n",
       "      <th>Protected</th>\n",
       "      <th>Percent Protected</th>\n",
       "    </tr>\n",
       "  </thead>\n",
       "  <tbody>\n",
       "    <tr>\n",
       "      <th>0</th>\n",
       "      <td>Native</td>\n",
       "      <td>2875</td>\n",
       "      <td>1263</td>\n",
       "      <td>30.521991</td>\n",
       "    </tr>\n",
       "    <tr>\n",
       "      <th>1</th>\n",
       "      <td>Non-Native</td>\n",
       "      <td>290</td>\n",
       "      <td>62</td>\n",
       "      <td>17.613636</td>\n",
       "    </tr>\n",
       "    <tr>\n",
       "      <th>2</th>\n",
       "      <td>Unknown</td>\n",
       "      <td>144</td>\n",
       "      <td>49</td>\n",
       "      <td>25.388601</td>\n",
       "    </tr>\n",
       "  </tbody>\n",
       "</table>\n",
       "</div>"
      ],
      "text/plain": [
       "   Nativeness  Not Protected  Protected  Percent Protected\n",
       "0      Native           2875       1263          30.521991\n",
       "1  Non-Native            290         62          17.613636\n",
       "2     Unknown            144         49          25.388601"
      ]
     },
     "execution_count": 40,
     "metadata": {},
     "output_type": "execute_result"
    }
   ],
   "source": [
    "nativeness_protected_counts = species.pivot_table(columns = 'Protected', \n",
    "                                                 index = 'Nativeness', \n",
    "                                                 values = 'Scientific Name', \n",
    "                                                 aggfunc = 'count')\n",
    "nativeness_protected_counts.columns = ['Not Protected', 'Protected']\n",
    "nativeness_protected_counts  = nativeness_protected_counts.reset_index()\n",
    "\n",
    "nativeness_protected_counts['Percent Protected'] = nativeness_protected_counts['Protected'] / \\\n",
    "                                                   (nativeness_protected_counts['Protected'] + \\\n",
    "                                                   nativeness_protected_counts['Not Protected']) * 100\n",
    "nativeness_protected_counts"
   ]
  },
  {
   "cell_type": "markdown",
   "id": "f8d255bf",
   "metadata": {},
   "source": [
    "There is a much higher number of **Native** species than **Non-Native** species in our dataset (4138 vs. 352) and that **Native** species also have a much higher rate of being protected (30.52% vs. 17.61%).\n",
    " \n",
    "This is to be expected, but let's run a Chi-squared test to see if this difference is significant."
   ]
  },
  {
   "cell_type": "code",
   "execution_count": 41,
   "id": "9677657b",
   "metadata": {},
   "outputs": [
    {
     "name": "stdout",
     "output_type": "stream",
     "text": [
      "Protected   False  True\n",
      "Nativeness             \n",
      "Native       2875  1263\n",
      "Non-Native    290    62\n",
      "\n",
      "Chi-squared test statistic: 25.368695667308685\n",
      "P-value: 4.735405787894386e-07\n"
     ]
    }
   ],
   "source": [
    "category1 = 'Native'\n",
    "category2 = 'Non-Native'\n",
    "\n",
    "nativeness_protected_table = species[(species['Nativeness'] == category1) | (species['Nativeness'] == category2)]\n",
    "contingency_table5 = pd.crosstab(nativeness_protected_table['Nativeness'], nativeness_protected_table['Protected'])\n",
    "print(contingency_table5)\n",
    "print()\n",
    "chi2, pvalue, dof, expected = chi2_contingency(contingency_table5)\n",
    "print(\"Chi-squared test statistic:\", chi2)\n",
    "print(\"P-value:\", pvalue)"
   ]
  },
  {
   "cell_type": "markdown",
   "id": "a821c947",
   "metadata": {},
   "source": [
    "The Chi-squared test resulted in a test statistic of 25.37 corresponding to a p-value of 4.74e-07 (0.0000005, clearly below the expected 0.05). This leads us to reject the null hypothesis.\n",
    "This indicates that there is a statistical association between **Nativeness** and **Protected** status.\n",
    " \n",
    "These results suggest that there does seem to be some bias favoring the protection of native species over non-native species.\n",
    "This makes sense because native species are often more adapted and co-evolved with their local ecosystems while non-native species are often seen as invasive that compete with the native species. Oftentimes, non-native species need to be controlled or else the natural equilibrium of the local ecosystem might be jeopardized."
   ]
  },
  {
   "cell_type": "markdown",
   "id": "3175897b",
   "metadata": {},
   "source": [
    "### Data Question #4: Are there any abundant species that are also classified as threatened or endangered?\n",
    "\n",
    "Generally, we think of threatened species as being rarely encountered. But let's see if there are any species that are abundant (typically seen daily) but are also classified as being threatened or endangered. By investigating this possible phenomenon, we might be able to shed light on overlooked species and their conservation needs for protection.\n",
    " \n",
    "Let's first count the number of protected and unprotected species by their **Abundance** categorization **(Abundant, Common, Occasional, Rare, Uncommon, Unknown)**. We won't use unique counts / aggregation of abundance categories, since species may vary in abundance across parks."
   ]
  },
  {
   "cell_type": "code",
   "execution_count": 42,
   "id": "b4b2e89a",
   "metadata": {},
   "outputs": [
    {
     "data": {
      "text/html": [
       "<div>\n",
       "<style scoped>\n",
       "    .dataframe tbody tr th:only-of-type {\n",
       "        vertical-align: middle;\n",
       "    }\n",
       "\n",
       "    .dataframe tbody tr th {\n",
       "        vertical-align: top;\n",
       "    }\n",
       "\n",
       "    .dataframe thead th {\n",
       "        text-align: right;\n",
       "    }\n",
       "</style>\n",
       "<table border=\"1\" class=\"dataframe\">\n",
       "  <thead>\n",
       "    <tr style=\"text-align: right;\">\n",
       "      <th></th>\n",
       "      <th>Abundance</th>\n",
       "      <th>Not Protected</th>\n",
       "      <th>Protected</th>\n",
       "      <th>Percent Protected</th>\n",
       "    </tr>\n",
       "  </thead>\n",
       "  <tbody>\n",
       "    <tr>\n",
       "      <th>0</th>\n",
       "      <td>Abundant</td>\n",
       "      <td>173</td>\n",
       "      <td>37</td>\n",
       "      <td>17.619048</td>\n",
       "    </tr>\n",
       "    <tr>\n",
       "      <th>1</th>\n",
       "      <td>Common</td>\n",
       "      <td>973</td>\n",
       "      <td>306</td>\n",
       "      <td>23.924941</td>\n",
       "    </tr>\n",
       "    <tr>\n",
       "      <th>2</th>\n",
       "      <td>Occasional</td>\n",
       "      <td>319</td>\n",
       "      <td>189</td>\n",
       "      <td>37.204724</td>\n",
       "    </tr>\n",
       "    <tr>\n",
       "      <th>3</th>\n",
       "      <td>Rare</td>\n",
       "      <td>421</td>\n",
       "      <td>238</td>\n",
       "      <td>36.115326</td>\n",
       "    </tr>\n",
       "    <tr>\n",
       "      <th>4</th>\n",
       "      <td>Uncommon</td>\n",
       "      <td>648</td>\n",
       "      <td>276</td>\n",
       "      <td>29.870130</td>\n",
       "    </tr>\n",
       "    <tr>\n",
       "      <th>5</th>\n",
       "      <td>Unknown</td>\n",
       "      <td>244</td>\n",
       "      <td>72</td>\n",
       "      <td>22.784810</td>\n",
       "    </tr>\n",
       "  </tbody>\n",
       "</table>\n",
       "</div>"
      ],
      "text/plain": [
       "    Abundance  Not Protected  Protected  Percent Protected\n",
       "0    Abundant            173         37          17.619048\n",
       "1      Common            973        306          23.924941\n",
       "2  Occasional            319        189          37.204724\n",
       "3        Rare            421        238          36.115326\n",
       "4    Uncommon            648        276          29.870130\n",
       "5     Unknown            244         72          22.784810"
      ]
     },
     "execution_count": 42,
     "metadata": {},
     "output_type": "execute_result"
    }
   ],
   "source": [
    "abundance_counts = species.pivot_table(columns = 'Protected',\n",
    "                                      index = 'Abundance', \n",
    "                                      values = 'Scientific Name', \n",
    "                                      aggfunc = 'count')\n",
    "abundance_counts.columns = ['Not Protected', 'Protected']\n",
    "abundance_counts = abundance_counts.reset_index()\n",
    "\n",
    "abundance_counts['Percent Protected'] = abundance_counts['Protected'] / \\\n",
    "                                        (abundance_counts['Protected'] + abundance_counts['Not Protected']) * 100\n",
    "\n",
    "abundance_counts"
   ]
  },
  {
   "cell_type": "markdown",
   "id": "d389a52e",
   "metadata": {},
   "source": [
    "As expected, we see that the percentage of protection of **Abundant** and **Common** species are the lowest (17.62% and 23.92%), and the highest in **Occasional** and **Rare** species (37.20% and 36.12%).\n",
    "\n",
    "Within these protected and abundant species, let's see if any of the species are also threatened or endangered."
   ]
  },
  {
   "cell_type": "code",
   "execution_count": 43,
   "id": "80fc15f7",
   "metadata": {},
   "outputs": [
    {
     "data": {
      "text/html": [
       "<div>\n",
       "<style scoped>\n",
       "    .dataframe tbody tr th:only-of-type {\n",
       "        vertical-align: middle;\n",
       "    }\n",
       "\n",
       "    .dataframe tbody tr th {\n",
       "        vertical-align: top;\n",
       "    }\n",
       "\n",
       "    .dataframe thead th {\n",
       "        text-align: right;\n",
       "    }\n",
       "</style>\n",
       "<table border=\"1\" class=\"dataframe\">\n",
       "  <thead>\n",
       "    <tr style=\"text-align: right;\">\n",
       "      <th></th>\n",
       "      <th>Scientific Name</th>\n",
       "      <th>Common Names</th>\n",
       "      <th>Category</th>\n",
       "      <th>Park Name</th>\n",
       "      <th>Nativeness</th>\n",
       "      <th>Abundance</th>\n",
       "      <th>Conservation Status</th>\n",
       "      <th>Protected</th>\n",
       "    </tr>\n",
       "  </thead>\n",
       "  <tbody>\n",
       "    <tr>\n",
       "      <th>44082</th>\n",
       "      <td>Oncorhynchus Mykiss</td>\n",
       "      <td>Rainbow Trout</td>\n",
       "      <td>Fish</td>\n",
       "      <td>Yellowstone National Park</td>\n",
       "      <td>Non-Native</td>\n",
       "      <td>Abundant</td>\n",
       "      <td>Threatened</td>\n",
       "      <td>True</td>\n",
       "    </tr>\n",
       "  </tbody>\n",
       "</table>\n",
       "</div>"
      ],
      "text/plain": [
       "           Scientific Name   Common Names Category                  Park Name  \\\n",
       "44082  Oncorhynchus Mykiss  Rainbow Trout     Fish  Yellowstone National Park   \n",
       "\n",
       "       Nativeness Abundance Conservation Status  Protected  \n",
       "44082  Non-Native  Abundant          Threatened       True  "
      ]
     },
     "execution_count": 43,
     "metadata": {},
     "output_type": "execute_result"
    }
   ],
   "source": [
    "abundant = species['Abundance'] == 'Abundant'\n",
    "protected = (species['Conservation Status'] == 'Threatened') | (species['Conservation Status'] == 'Endangered')\n",
    "protected_abundant_species = species[abundant & protected]\n",
    "\n",
    "protected_abundant_species"
   ]
  },
  {
   "cell_type": "markdown",
   "id": "14f24486",
   "metadata": {},
   "source": [
    "Interestingly, we find that **Rainbow Trout** in **Yellowstone National Park** are both **Abundant** and **Threatened**.\n",
    "Further research reveals that this species was introduced into Yellowstone for sport fishing purposes, and conservation efforts are underway to maintain this population along side other trout species. ([yellowstone.org](https://www.yellowstone.org/native-fish/))\n",
    "By recognizing this paradox, we can better understand the complexities surrounding the conservation needs of **Threatened** or **Endangered** species to develop more effective conservation strategies in the future."
   ]
  },
  {
   "cell_type": "markdown",
   "id": "6e6ab883",
   "metadata": {},
   "source": [
    "    "
   ]
  }
 ],
 "metadata": {
  "kernelspec": {
   "display_name": "Python 3 (ipykernel)",
   "language": "python",
   "name": "python3"
  },
  "language_info": {
   "codemirror_mode": {
    "name": "ipython",
    "version": 3
   },
   "file_extension": ".py",
   "mimetype": "text/x-python",
   "name": "python",
   "nbconvert_exporter": "python",
   "pygments_lexer": "ipython3",
   "version": "3.10.1"
  }
 },
 "nbformat": 4,
 "nbformat_minor": 5
}
